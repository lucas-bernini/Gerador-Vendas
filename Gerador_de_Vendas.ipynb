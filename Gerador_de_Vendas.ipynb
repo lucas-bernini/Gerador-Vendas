{
  "nbformat": 4,
  "nbformat_minor": 0,
  "metadata": {
    "colab": {
      "provenance": []
    },
    "kernelspec": {
      "name": "python3",
      "display_name": "Python 3"
    },
    "language_info": {
      "name": "python"
    }
  },
  "cells": [
    {
      "cell_type": "code",
      "execution_count": null,
      "metadata": {
        "colab": {
          "base_uri": "https://localhost:8080/"
        },
        "id": "P0_nbPYeKwW5",
        "outputId": "f502f453-4c40-451b-8023-fb7aaecad177"
      },
      "outputs": [
        {
          "output_type": "stream",
          "name": "stdout",
          "text": [
            "Collecting faker\n",
            "  Downloading faker-37.1.0-py3-none-any.whl.metadata (15 kB)\n",
            "Requirement already satisfied: tzdata in /usr/local/lib/python3.11/dist-packages (from faker) (2025.1)\n",
            "Downloading faker-37.1.0-py3-none-any.whl (1.9 MB)\n",
            "\u001b[2K   \u001b[90m━━━━━━━━━━━━━━━━━━━━━━━━━━━━━━━━━━━━━━━━\u001b[0m \u001b[32m1.9/1.9 MB\u001b[0m \u001b[31m14.9 MB/s\u001b[0m eta \u001b[36m0:00:00\u001b[0m\n",
            "\u001b[?25hInstalling collected packages: faker\n",
            "Successfully installed faker-37.1.0\n"
          ]
        }
      ],
      "source": [
        "pip install faker"
      ]
    },
    {
      "cell_type": "code",
      "source": [
        "import pandas as pd\n",
        "import numpy as np\n",
        "import random\n",
        "from datetime import datetime, timedelta\n",
        "from faker import Faker\n"
      ],
      "metadata": {
        "id": "1XWJV1siKzOO"
      },
      "execution_count": null,
      "outputs": []
    },
    {
      "cell_type": "code",
      "source": [
        "num_rows = 2000\n",
        "fake = Faker('pt_BR')"
      ],
      "metadata": {
        "id": "_t2pxJUvK0wM"
      },
      "execution_count": null,
      "outputs": []
    },
    {
      "cell_type": "code",
      "source": [
        "# Gera uma lista de nomes de compradores, garantindo que cada nome seja único\n",
        "nomes_compradores = []\n",
        "while len(nomes_compradores) < 50:\n",
        "    nome = fake.name()\n",
        "    if nome not in nomes_compradores:\n",
        "        nomes_compradores.append(nome)\n"
      ],
      "metadata": {
        "id": "CJSPWwmvK35T"
      },
      "execution_count": null,
      "outputs": []
    },
    {
      "cell_type": "code",
      "source": [
        "# Cria um dicionário de dados dos compradores com id, cpf, data de nascimento e endereço\n",
        "compradores_dados = {}\n",
        "for nome in nomes_compradores:\n",
        "    compradores_dados[nome] = {\n",
        "        'id': len(compradores_dados) + 1,\n",
        "        'cpf': str(random.randint(10000000000, 99999999999)),\n",
        "        'dt_nascimento': datetime(random.randint(1950, 2005), random.randint(1, 12), random.randint(1, 28)),\n",
        "        'endereço': fake.address(),\n",
        "    }\n"
      ],
      "metadata": {
        "id": "GCcVtGcaK7Ik"
      },
      "execution_count": null,
      "outputs": []
    },
    {
      "cell_type": "code",
      "source": [
        "# Cria listas de informações dos compradores baseadas no dicionário anterior\n",
        "nome_comprador = random.choices(list(compradores_dados.keys()), k=num_rows)\n",
        "id_comprador = [compradores_dados[nome]['id'] for nome in nome_comprador]\n",
        "cpf_comprador = [compradores_dados[nome]['cpf'] for nome in nome_comprador]\n",
        "dt_nascimento_comprador = [compradores_dados[nome]['dt_nascimento'] for nome in nome_comprador]\n",
        "endereço_comprador = [compradores_dados[nome]['endereço'] for nome in nome_comprador]\n"
      ],
      "metadata": {
        "id": "NGy9fg6TK-Sk"
      },
      "execution_count": null,
      "outputs": []
    },
    {
      "cell_type": "code",
      "source": [
        "# Cria listas de informações dos compradores baseadas no dicionário anterior\n",
        "nome_comprador = random.choices(list(compradores_dados.keys()), k=num_rows)\n",
        "id_comprador = [compradores_dados[nome]['id'] for nome in nome_comprador]\n",
        "cpf_comprador = [compradores_dados[nome]['cpf'] for nome in nome_comprador]\n",
        "dt_nascimento_comprador = [compradores_dados[nome]['dt_nascimento'] for nome in nome_comprador]\n",
        "endereço_comprador = [compradores_dados[nome]['endereço'] for nome in nome_comprador]\n"
      ],
      "metadata": {
        "id": "CT4_5vUZK_SD"
      },
      "execution_count": null,
      "outputs": []
    },
    {
      "cell_type": "code",
      "source": [
        "# Define uma lista de marcas para os produtos\n",
        "marcas = [\n",
        "    \"RaizTech\", \"VerdeStyle\", \"CaminhoDigital\", \"BrisaNova\", \"SolFashion\",\n",
        "    \"VivaClima\", \"LuzNativa\", \"RioInova\", \"TriboDigital\", \"EssênciaFuturista\",\n",
        "    \"MestreTech\", \"PuraBrisa\", \"BrilhoDigital\", \"EcoVibe\", \"CoresDoFuturo\",\n",
        "    \"SambaNext\", \"TechSamba\", \"PuraCulturaTech\", \"MaxRaiz\", \"VibeDoSol\",\n",
        "    \"NuvemViva\", \"RioCultura\", \"VerdeFlex\", \"SolucionaStyle\", \"LumenCultural\",\n",
        "    \"BrilhoTech\", \"EstiloDigital\", \"TriboNativa\", \"FlexBrasil\", \"CoresDoSol\"\n",
        "]"
      ],
      "metadata": {
        "id": "eKFhfkoWMZ60"
      },
      "execution_count": null,
      "outputs": []
    },
    {
      "cell_type": "code",
      "source": [
        "# Define uma lista de produtos para vender\n",
        "produtos = [\n",
        "    \"Camiseta\", \"Calça Jeans\", \"Tênis\", \"Blusa\", \"Vestido\",\n",
        "    \"Camisa\", \"Saia\", \"Short\", \"Jaqueta\", \"Casaco\",\n",
        "    \"Sapato Social\", \"Sandália\", \"Chinelos\", \"Bolsa\", \"Mochila\",\n",
        "    \"Carteira\", \"Relógio\", \"Óculos de Sol\", \"Chapéu\", \"Boné\",\n",
        "    \"Celular\", \"Notebook\", \"Tablet\", \"TV\", \"Câmera\",\n",
        "    \"Fone de Ouvido\", \"Caixa de Som\", \"Videogame\", \"Livro\", \"Jogo de Tabuleiro\",\n",
        "    \"Perfume\", \"Maquiagem\", \"Creme Hidratante\", \"Shampoo\", \"Condicionador\",\n",
        "    \"Sabonete\", \"Pasta de Dente\", \"Escova de Dente\", \"Desodorante\", \"Protetor Solar\",\n",
        "    \"Aparelho de Barbear\", \"Barbeador Elétrico\", \"Secador de Cabelo\", \"Chapinha\", \"Cafeteira\",\n",
        "    \"Liquidificador\", \"Batedeira\", \"Forno Elétrico\", \"Micro-ondas\", \"Aspirador de Pó\"\n",
        "]\n"
      ],
      "metadata": {
        "id": "zcoY6HJtMa_L"
      },
      "execution_count": null,
      "outputs": []
    },
    {
      "cell_type": "code",
      "source": [
        "# Cria um dicionário que mapeia cada combinação de produto e marca a um id e preços\n",
        "produtos_dados = {}\n",
        "for produto_nome in produtos:\n",
        "    for marca_nome in marcas:\n",
        "        valor_unitario_produto = round(random.uniform(10, 100), 2)\n",
        "        produtos_dados[(produto_nome, marca_nome)] = {\n",
        "            'id_produto': len(produtos_dados) + 1001,\n",
        "            'valor_unitario_produto': valor_unitario_produto,\n",
        "            'valor_custo_produto': round(valor_unitario_produto * 0.15, 2)\n",
        "        }\n"
      ],
      "metadata": {
        "id": "Xs203c04MfEZ"
      },
      "execution_count": null,
      "outputs": []
    },
    {
      "cell_type": "code",
      "source": [
        "\n",
        "# Cria listas com as informações de cada produto baseado no dicionário\n",
        "produto = random.choices(produtos, k=num_rows)\n",
        "marca = random.choices(marcas, k=num_rows)\n",
        "id_produto = [produtos_dados[(produto_nome, marca_nome)]['id_produto'] for produto_nome, marca_nome in zip(produto, marca)]\n",
        "valor_unitario_produto = [produtos_dados[(produto_nome, marca_nome)]['valor_unitario_produto'] for produto_nome, marca_nome in zip(produto, marca)]\n",
        "valor_custo_produto = [produtos_dados[(produto_nome, marca_nome)]['valor_custo_produto'] for produto_nome, marca_nome in zip(produto, marca)]\n"
      ],
      "metadata": {
        "id": "GVkiEkf3Ms7B"
      },
      "execution_count": null,
      "outputs": []
    },
    {
      "cell_type": "code",
      "source": [
        "# Função para calcular o desconto baseado no valor e quantidade do produto\n",
        "def nova_funcao_desconto(valor_unitario, quantidade_vendida):\n",
        "  if valor_unitario * quantidade_vendida <= 100:\n",
        "    desconto = random.uniform(0.05, 0.10)\n",
        "  elif valor_unitario * quantidade_vendida <= 500:\n",
        "    desconto = random.uniform(0.10, 0.15)\n",
        "  else:\n",
        "    desconto = random.uniform(0.15, 0.20)\n",
        "  return desconto\n"
      ],
      "metadata": {
        "id": "KsQmV_GaMwJ5"
      },
      "execution_count": null,
      "outputs": []
    },
    {
      "cell_type": "code",
      "source": [
        "# Gera uma lista de nomes de lojas\n",
        "num_lojas = 60\n",
        "nomes_lojas = [f'Loja {i}' for i in range(1, num_lojas + 1)]\n"
      ],
      "metadata": {
        "id": "haFdqiX7MyDI"
      },
      "execution_count": null,
      "outputs": []
    },
    {
      "cell_type": "code",
      "source": [
        "# Cria um dicionário com os endereços de cada loja\n",
        "lojas_dados = {}\n",
        "for nome_loja in nomes_lojas:\n",
        "    lojas_dados[nome_loja] = {\n",
        "        'endereço': fake.address(),\n",
        "    }\n"
      ],
      "metadata": {
        "id": "Ky3WNuu_M03Y"
      },
      "execution_count": null,
      "outputs": []
    },
    {
      "cell_type": "code",
      "source": [
        "# Atribui aleatoriamente cada venda a uma loja e pega o endereço da loja\n",
        "loja = random.choices(nomes_lojas, k=num_rows)\n",
        "endereço_loja = [lojas_dados[nome_loja]['endereço'] for nome_loja in loja]\n"
      ],
      "metadata": {
        "id": "-CHK1d2cM2rh"
      },
      "execution_count": null,
      "outputs": []
    },
    {
      "cell_type": "code",
      "source": [
        "# Gera nomes únicos para os vendedores\n",
        "nomes_vendedores = []\n",
        "while len(nomes_vendedores) < len(nomes_lojas):\n",
        "    nome = fake.name()\n",
        "    if nome not in nomes_vendedores and nome not in nomes_compradores:\n",
        "        nomes_vendedores.append(nome)\n"
      ],
      "metadata": {
        "id": "xOwH6kWQM5sj"
      },
      "execution_count": null,
      "outputs": []
    },
    {
      "cell_type": "code",
      "source": [
        "# Cria um dicionário que mapeia lojas a vendedores\n",
        "lojas_vendedores = {}\n",
        "\n",
        "vendedores_disponiveis = nomes_vendedores.copy()\n",
        "for loja_nome in nomes_lojas:\n",
        "    vendedor = random.choice(vendedores_disponiveis)\n",
        "    lojas_vendedores[loja_nome] = vendedor\n",
        "    vendedores_disponiveis.remove(vendedor)\n"
      ],
      "metadata": {
        "id": "sppccgM5M_ig"
      },
      "execution_count": null,
      "outputs": []
    },
    {
      "cell_type": "code",
      "source": [
        "# Gera nomes únicos para os gerentes\n",
        "nomes_gerentes = []\n",
        "while len(nomes_gerentes) < len(nomes_lojas):\n",
        "    nome = fake.name()\n",
        "    if nome not in nomes_gerentes and nome not in nomes_vendedores and nome not in nomes_compradores:\n",
        "        nomes_gerentes.append(nome)\n"
      ],
      "metadata": {
        "id": "utRlCfkDNA9y"
      },
      "execution_count": null,
      "outputs": []
    },
    {
      "cell_type": "code",
      "source": [
        "# Cria um dicionário que mapeia lojas a gerentes\n",
        "lojas_gerentes = {}\n",
        "\n",
        "gerentes_disponiveis = nomes_gerentes.copy()\n",
        "for loja_nome in nomes_lojas:\n",
        "    gerente = random.choice(gerentes_disponiveis)\n",
        "    lojas_gerentes[loja_nome] = gerente\n",
        "    gerentes_disponiveis.remove(gerente)\n"
      ],
      "metadata": {
        "id": "lkb4jGMuNBlQ"
      },
      "execution_count": null,
      "outputs": []
    },
    {
      "cell_type": "code",
      "source": [
        "# Define os valores de país e outras informações da venda\n",
        "pais_comprador = ['Brasil'] * num_rows\n",
        "vendedor = [lojas_vendedores[loja_nome] for loja_nome in loja]\n",
        "pais_loja = ['Brasil'] * num_rows\n",
        "quantidade_vendida = [random.randint(1, 10) for _ in range(num_rows)]\n",
        "tipo_de_venda = random.choices(['online', 'loja'], k=num_rows)\n",
        "previsao_entrega = [datetime.now() + timedelta(days=random.randint(1, 10)) if tipo == 'online' else None for tipo in tipo_de_venda]\n",
        "dt_entrega_real = [previsao + timedelta(days=random.randint(-2, 2)) if tipo == 'online' else None for tipo, previsao in zip(tipo_de_venda, previsao_entrega)]\n"
      ],
      "metadata": {
        "id": "lBM_ViKFND95"
      },
      "execution_count": null,
      "outputs": []
    },
    {
      "cell_type": "code",
      "source": [
        "# Define um mapeamento de estados para suas respectivas regiões\n",
        "estados_regioes = {\n",
        "    'SP': 'Sudeste',\n",
        "    'RJ': 'Sudeste',\n",
        "    'MG': 'Sudeste',\n",
        "    'ES': 'Sudeste',\n",
        "    'RS': 'Sul',\n",
        "    'PR': 'Sul',\n",
        "    'SC': 'Sul',\n",
        "    'BA': 'Nordeste',\n",
        "    'CE': 'Nordeste',\n",
        "    'PE': 'Nordeste',\n",
        "    'GO': 'Centro-Oeste',\n",
        "    'MT': 'Centro-Oeste',\n",
        "    'MS': 'Centro-Oeste',\n",
        "    'DF': 'Centro-Oeste',\n",
        "    'AM': 'Norte',\n",
        "    'PA': 'Norte',\n",
        "    'RO': 'Norte',\n",
        "    'AC': 'Norte',\n",
        "    'RR': 'Norte',\n",
        "    'AP': 'Norte',\n",
        "    'TO': 'Norte',\n",
        "    'MA': 'Nordeste',\n",
        "    'PI': 'Nordeste',\n",
        "    'RN': 'Nordeste',\n",
        "    'PB': 'Nordeste',\n",
        "    'SE': 'Nordeste',\n",
        "    'AL': 'Nordeste'\n",
        "}\n"
      ],
      "metadata": {
        "id": "LlS0CAuzNFwr"
      },
      "execution_count": null,
      "outputs": []
    },
    {
      "cell_type": "code",
      "source": [
        "# Cria o DataFrame com todos os dados\n",
        "data = {\n",
        "    'id_comprador': id_comprador,\n",
        "    'cpf_comprador': cpf_comprador,\n",
        "    'nome_comprador': nome_comprador,\n",
        "    'dt_nascimento_comprador': dt_nascimento_comprador,\n",
        "    'endereço_comprador': endereço_comprador,\n",
        "    'pais_comprador': pais_comprador,\n",
        "    'loja': loja,\n",
        "    'endereço_loja': endereço_loja,\n",
        "    'vendedor': vendedor,\n",
        "    'pais_loja': pais_loja,\n",
        "    'id_produto': id_produto,\n",
        "    'produto': produto,\n",
        "    'marca': marca,\n",
        "    'tipo_de_venda': tipo_de_venda,\n",
        "    'previsao_entrega': previsao_entrega,\n",
        "    'dt_entrega_real': dt_entrega_real,\n",
        "    'quantidade_vendida': quantidade_vendida,\n",
        "    'valor_unitario_produto': valor_unitario_produto,\n",
        "    'valor_custo_produto': valor_custo_produto,\n",
        "}\n",
        "df_vendas = pd.DataFrame(data)"
      ],
      "metadata": {
        "id": "sZxibm__NHjA"
      },
      "execution_count": null,
      "outputs": []
    },
    {
      "cell_type": "code",
      "source": [
        "# Define a data da venda: a data atual para loja e uma data anterior às de 'previsao_entrega' ou 'dt_entrega_real' para online.\n",
        "df_vendas['data_de_venda'] = df_vendas.apply(lambda row:\n",
        "    datetime.now() if row['tipo_de_venda'] == 'loja' else\n",
        "    min(row['previsao_entrega'], row['dt_entrega_real']) - timedelta(days=1) if row['tipo_de_venda'] == 'online' else\n",
        "    datetime.now(), axis=1)"
      ],
      "metadata": {
        "id": "PgZaVNLArL1H"
      },
      "execution_count": null,
      "outputs": []
    },
    {
      "cell_type": "code",
      "source": [
        "# Cria uma nova coluna para o gerente da loja\n",
        "df_vendas['gerente'] = df_vendas['loja'].map(lojas_gerentes)\n",
        "\n",
        "# Atribui forma de pagamento e satisfação do cliente aleatoriamente\n",
        "df_vendas['forma_pagamento'] = random.choices(['Pix', 'Crédito', 'Débito', 'Dinheiro'], k=num_rows)\n",
        "df_vendas['satisfacao'] = random.choices(['Péssimo', 'Ruim', 'Regular', 'Bom', 'Excelente'], k=num_rows)\n",
        "\n",
        "# Aplica o cálculo do desconto baseado na quantidade vendida\n",
        "df_vendas['desconto_produto'] = df_vendas.apply(lambda row: nova_funcao_desconto(row['valor_unitario_produto'], row['quantidade_vendida']), axis=1)\n",
        "\n",
        "# Calcula o valor do desconto e o preço final da venda\n",
        "df_vendas['valor_desconto_venda'] = df_vendas['valor_unitario_produto'] * df_vendas['desconto_produto'] * df_vendas['quantidade_vendida']\n",
        "df_vendas['preco_final_venda'] = (df_vendas['valor_unitario_produto'] * df_vendas['quantidade_vendida']) - df_vendas['valor_desconto_venda'] - df_vendas['valor_custo_produto']\n",
        "\n",
        "# Mapeia as regiões com base no estado da loja\n",
        "df_vendas['regiao_venda'] = df_vendas['endereço_loja'].str.extract(r'(\\w{2})$', expand=False).map(estados_regioes)\n",
        "\n",
        "# Ordenar o DataFrame pela data da venda\n",
        "df_vendas = df_vendas.sort_values(by=['data_de_venda'])\n",
        "\n",
        "# Resetar o índice do DataFrame\n",
        "df_vendas = df_vendas.reset_index(drop=True)\n",
        "\n",
        "# Criar a coluna 'id_venda' com valores sequenciais\n",
        "df_vendas['id_venda'] = range(1, len(df_vendas) + 1)"
      ],
      "metadata": {
        "id": "yfqEgRukNJbY"
      },
      "execution_count": null,
      "outputs": []
    },
    {
      "cell_type": "code",
      "source": [
        "df_vendas.to_excel('vendas.xlsx', index=False)"
      ],
      "metadata": {
        "id": "pVTNZkgCNrO3"
      },
      "execution_count": null,
      "outputs": []
    },
    {
      "cell_type": "code",
      "source": [
        "df_vendas.info()"
      ],
      "metadata": {
        "colab": {
          "base_uri": "https://localhost:8080/"
        },
        "id": "OJ2yaPk826TH",
        "outputId": "a9d66e71-b77c-4e69-cb6e-2511575fac50"
      },
      "execution_count": null,
      "outputs": [
        {
          "output_type": "stream",
          "name": "stdout",
          "text": [
            "<class 'pandas.core.frame.DataFrame'>\n",
            "RangeIndex: 2000 entries, 0 to 1999\n",
            "Data columns (total 28 columns):\n",
            " #   Column                   Non-Null Count  Dtype         \n",
            "---  ------                   --------------  -----         \n",
            " 0   id_comprador             2000 non-null   int64         \n",
            " 1   cpf_comprador            2000 non-null   object        \n",
            " 2   nome_comprador           2000 non-null   object        \n",
            " 3   dt_nascimento_comprador  2000 non-null   datetime64[ns]\n",
            " 4   endereço_comprador       2000 non-null   object        \n",
            " 5   pais_comprador           2000 non-null   object        \n",
            " 6   loja                     2000 non-null   object        \n",
            " 7   endereço_loja            2000 non-null   object        \n",
            " 8   vendedor                 2000 non-null   object        \n",
            " 9   pais_loja                2000 non-null   object        \n",
            " 10  id_produto               2000 non-null   int64         \n",
            " 11  produto                  2000 non-null   object        \n",
            " 12  marca                    2000 non-null   object        \n",
            " 13  tipo_de_venda            2000 non-null   object        \n",
            " 14  previsao_entrega         984 non-null    datetime64[ns]\n",
            " 15  dt_entrega_real          984 non-null    datetime64[ns]\n",
            " 16  quantidade_vendida       2000 non-null   int64         \n",
            " 17  valor_unitario_produto   2000 non-null   float64       \n",
            " 18  valor_custo_produto      2000 non-null   float64       \n",
            " 19  data_de_venda            2000 non-null   datetime64[ns]\n",
            " 20  gerente                  2000 non-null   object        \n",
            " 21  forma_pagamento          2000 non-null   object        \n",
            " 22  satisfacao               2000 non-null   object        \n",
            " 23  desconto_produto         2000 non-null   float64       \n",
            " 24  valor_desconto_venda     2000 non-null   float64       \n",
            " 25  preco_final_venda        2000 non-null   float64       \n",
            " 26  regiao_venda             2000 non-null   object        \n",
            " 27  id_venda                 2000 non-null   int64         \n",
            "dtypes: datetime64[ns](4), float64(5), int64(4), object(15)\n",
            "memory usage: 437.6+ KB\n"
          ]
        }
      ]
    }
  ]
}